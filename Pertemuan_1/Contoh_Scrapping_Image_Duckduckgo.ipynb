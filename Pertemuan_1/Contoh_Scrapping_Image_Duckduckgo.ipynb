{
  "nbformat": 4,
  "nbformat_minor": 0,
  "metadata": {
    "colab": {
      "name": "Contoh Scrapping Image Duckduckgo.ipynb",
      "provenance": [],
      "collapsed_sections": []
    },
    "kernelspec": {
      "name": "python3",
      "display_name": "Python 3"
    },
    "language_info": {
      "name": "python"
    }
  },
  "cells": [
    {
      "cell_type": "markdown",
      "source": [
        "Scrapping Data"
      ],
      "metadata": {
        "id": "ed0GJz2e1ds6"
      }
    },
    {
      "cell_type": "code",
      "metadata": {
        "id": "Q2Vo1oPlcdWi"
      },
      "source": [
        "# menginstall image scrapping\n",
        "!pip install -q jmd_imagescraper"
      ],
      "execution_count": null,
      "outputs": []
    },
    {
      "cell_type": "code",
      "source": [
        "# Meingimport library path untuk menyimpan hasil image scrapping\n",
        "from pathlib import Path"
      ],
      "metadata": {
        "id": "FhupmHU77BuR"
      },
      "execution_count": null,
      "outputs": []
    },
    {
      "cell_type": "code",
      "source": [
        "# Menginisialisasikan folder penyimpanan hasil image scrapping\n",
        "root = Path().cwd()/\"datasets\""
      ],
      "metadata": {
        "id": "rpMzBFEe7DK8"
      },
      "execution_count": null,
      "outputs": []
    },
    {
      "cell_type": "code",
      "source": [
        "# Mengimport library image scrapping\n",
        "from jmd_imagescraper.core import *"
      ],
      "metadata": {
        "id": "13tnGgoS7Elz"
      },
      "execution_count": null,
      "outputs": []
    },
    {
      "cell_type": "code",
      "source": [
        "# Melakukan Image Scrapping\n",
        "duckduckgo_search(root, \"Dog\", \"Dog\", max_results=500)"
      ],
      "metadata": {
        "id": "U9es3KE67GLW"
      },
      "execution_count": null,
      "outputs": []
    },
    {
      "cell_type": "markdown",
      "source": [
        "Menjadikan Semua dataset menjadi zip"
      ],
      "metadata": {
        "id": "H3AGaAME2NEX"
      }
    },
    {
      "cell_type": "code",
      "metadata": {
        "id": "H9QEp7WbdHuN"
      },
      "source": [
        "!zip -r /content/datasets.zip /content/datasets"
      ],
      "execution_count": null,
      "outputs": []
    },
    {
      "cell_type": "markdown",
      "source": [
        "Mendowload file agar bisa di labeling"
      ],
      "metadata": {
        "id": "rcIfV-Kw2S-d"
      }
    },
    {
      "cell_type": "code",
      "metadata": {
        "colab": {
          "base_uri": "https://localhost:8080/",
          "height": 34
        },
        "id": "Jr1F3k5qdAeC",
        "outputId": "c7fd7403-86d9-4fed-d366-0d2ef439f2de"
      },
      "source": [
        "from google.colab import files\n",
        "files.download(\"/content/datasets.zip\")"
      ],
      "execution_count": null,
      "outputs": [
        {
          "output_type": "display_data",
          "data": {
            "text/plain": [
              "<IPython.core.display.Javascript object>"
            ],
            "application/javascript": [
              "\n",
              "    async function download(id, filename, size) {\n",
              "      if (!google.colab.kernel.accessAllowed) {\n",
              "        return;\n",
              "      }\n",
              "      const div = document.createElement('div');\n",
              "      const label = document.createElement('label');\n",
              "      label.textContent = `Downloading \"${filename}\": `;\n",
              "      div.appendChild(label);\n",
              "      const progress = document.createElement('progress');\n",
              "      progress.max = size;\n",
              "      div.appendChild(progress);\n",
              "      document.body.appendChild(div);\n",
              "\n",
              "      const buffers = [];\n",
              "      let downloaded = 0;\n",
              "\n",
              "      const channel = await google.colab.kernel.comms.open(id);\n",
              "      // Send a message to notify the kernel that we're ready.\n",
              "      channel.send({})\n",
              "\n",
              "      for await (const message of channel.messages) {\n",
              "        // Send a message to notify the kernel that we're ready.\n",
              "        channel.send({})\n",
              "        if (message.buffers) {\n",
              "          for (const buffer of message.buffers) {\n",
              "            buffers.push(buffer);\n",
              "            downloaded += buffer.byteLength;\n",
              "            progress.value = downloaded;\n",
              "          }\n",
              "        }\n",
              "      }\n",
              "      const blob = new Blob(buffers, {type: 'application/binary'});\n",
              "      const a = document.createElement('a');\n",
              "      a.href = window.URL.createObjectURL(blob);\n",
              "      a.download = filename;\n",
              "      div.appendChild(a);\n",
              "      a.click();\n",
              "      div.remove();\n",
              "    }\n",
              "  "
            ]
          },
          "metadata": {}
        },
        {
          "output_type": "display_data",
          "data": {
            "text/plain": [
              "<IPython.core.display.Javascript object>"
            ],
            "application/javascript": [
              "download(\"download_05ece4a6-cefc-4148-a3ef-031d952b5d20\", \"datasets.zip\", 94279514)"
            ]
          },
          "metadata": {}
        }
      ]
    },
    {
      "cell_type": "code",
      "source": [
        ""
      ],
      "metadata": {
        "id": "f7IYp-jn8Um4"
      },
      "execution_count": null,
      "outputs": []
    }
  ]
}